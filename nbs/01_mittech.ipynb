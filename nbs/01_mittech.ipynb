{
 "cells": [
  {
   "cell_type": "markdown",
   "id": "54f9bc73",
   "metadata": {},
   "source": [
    "# mittech\n",
    "\n",
    "> Fill in a module description here. Gathers links to MIT Technology Review articles"
   ]
  },
  {
   "cell_type": "code",
   "execution_count": null,
   "id": "60af057e",
   "metadata": {},
   "outputs": [],
   "source": [
    "#| default_exp mittech"
   ]
  },
  {
   "cell_type": "code",
   "execution_count": null,
   "id": "444543b7",
   "metadata": {},
   "outputs": [],
   "source": [
    "#| hide\n",
    "from nbdev.showdoc import *"
   ]
  },
  {
   "cell_type": "code",
   "execution_count": null,
   "id": "0fc9a971",
   "metadata": {},
   "outputs": [],
   "source": [
    "#| export\n",
    "def get_soup(): print('soup!')"
   ]
  },
  {
   "cell_type": "code",
   "execution_count": null,
   "id": "fcf47a89",
   "metadata": {},
   "outputs": [],
   "source": [
    "# from bs4 import BeautifulSoup\n",
    "# import requests\n",
    "from requests_html import HTMLSession\n",
    "import pandas as pd"
   ]
  },
  {
   "cell_type": "code",
   "execution_count": null,
   "id": "99198419",
   "metadata": {},
   "outputs": [],
   "source": [
    "result"
   ]
  },
  {
   "cell_type": "code",
   "execution_count": null,
   "id": "4cca585c",
   "metadata": {},
   "outputs": [],
   "source": [
    "names = [r.html.find(str=l) for l in r.html.absolute_links]\n",
    "names"
   ]
  },
  {
   "cell_type": "code",
   "execution_count": null,
   "id": "cf63caa7",
   "metadata": {},
   "outputs": [],
   "source": [
    "# soup.find_all(\"li\")\n",
    "soup.text"
   ]
  },
  {
   "cell_type": "code",
   "execution_count": null,
   "id": "fc6f1252",
   "metadata": {},
   "outputs": [],
   "source": [
    "#| hide\n",
    "import nbdev; nbdev.nbdev_export()"
   ]
  }
 ],
 "metadata": {
  "kernelspec": {
   "display_name": "Python 3 (ipykernel)",
   "language": "python",
   "name": "python3"
  }
 },
 "nbformat": 4,
 "nbformat_minor": 5
}
