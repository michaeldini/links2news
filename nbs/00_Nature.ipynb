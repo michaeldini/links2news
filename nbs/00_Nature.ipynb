{
 "cells": [
  {
   "cell_type": "markdown",
   "metadata": {},
   "source": [
    "# Nature\n",
    "\n",
    "> Fill in a module description here. Gathers links to Nature magazine articles"
   ]
  },
  {
   "cell_type": "code",
   "execution_count": null,
   "metadata": {},
   "outputs": [],
   "source": [
    "#| default_exp nature"
   ]
  },
  {
   "cell_type": "code",
   "execution_count": null,
   "metadata": {},
   "outputs": [],
   "source": [
    "#| hide\n",
    "from nbdev.showdoc import *"
   ]
  },
  {
   "cell_type": "code",
   "execution_count": null,
   "metadata": {},
   "outputs": [],
   "source": [
    "#| export\n",
    "def get_soup(): print('soup!')"
   ]
  },
  {
   "cell_type": "markdown",
   "metadata": {},
   "source": [
    "from bs4 import BeautifulSoup\n",
    "import re, requests, pandas as pd\n",
    "\n",
    "entry = 'https://www.nature.com/latest-news'\n",
    "article_entry = 'https://www.nature.com'\n",
    "\n",
    "def nature_news(page_number=1):\n",
    "    \"\"\"enter a page number. returns request obj\"\"\"\n",
    "    \n",
    "    if page_number == 1:\n",
    "        return requests.get(entry)\n",
    "    else:\n",
    "        return requests.get(entry, {\"page\": page_number})\n",
    "\n",
    "soup = BeautifulSoup(nature_news().content, 'lxml')\n",
    "\n",
    "soup2 = BeautifulSoup(nature_news(2).content, 'lxml')\n",
    "\n",
    "parent_class = 'c-article-item__wrapper'\n",
    "title_class = \"c-article-item__title mb10\"\n",
    "date_class = \"c-article-item__date\"\n",
    "\n",
    "# expecting 25 articles\n",
    "html_articles = soup.find_all(class_= parent_class)\n",
    "html_articles = [article for article in html_articles if article.find('a') != None]\n",
    "len(html_articles)\n",
    "\n",
    "from collections import defaultdict\n",
    "articles = defaultdict(list)\n",
    "\n",
    "for tag in html_articles:\n",
    "    articles['titles'].append(tag.find(class_= title_class).text)\n",
    "    articles['urls'].append(article_entry + tag.find(href=True)['href'])\n",
    "    articles['post_date'].append(tag.find(class_= date_class).text)\n",
    "\n",
    "df = pd.DataFrame(articles)\n",
    "\n",
    "df['post_date'] = pd.to_datetime(df.post_date)\n",
    "\n",
    "import time\n",
    "from collections import defaultdict\n",
    "\n",
    "dfs = []\n",
    "for i in range(1,3):\n",
    "\n",
    "    time.sleep(10)\n",
    "    \n",
    "    soup = BeautifulSoup(nature_news(i).content, 'lxml')\n",
    "    \n",
    "    html_articles = soup.find_all(class_= parent_class)\n",
    "    html_articles = [article for article in html_articles if article.find('a') != None]\n",
    "    \n",
    "    articles = defaultdict(list)\n",
    "    for tag in html_articles:\n",
    "        articles['titles'].append(tag.find(class_= title_class).text)\n",
    "        articles['urls'].append(article_entry + tag.find(href=True)['href'])\n",
    "        articles['post_date'].append(tag.find(class_= date_class).text)\n",
    "    dfs.append(pd.DataFrame(articles))\n",
    "\n",
    "results = pd.concat(dfs)\n",
    "\n",
    "results[results.duplicated()]\n",
    "\n",
    "results.to_csv('naturenews.csv', index=False)\n",
    "\n",
    "results = pd.read_csv('naturenews.csv')\n",
    "results.head()\n",
    "\n",
    "from jinja2 import Environment, PackageLoader, select_autoescape\n",
    "env = Environment(\n",
    "    loader=PackageLoader(\"myapp\"),\n",
    "    autoescape=select_autoescape())\n",
    "\n",
    "template = env.get_template(\"template.html\")\n",
    "\n",
    "with open('htmltest.html', 'w') as f:\n",
    "    f.write(template.render(articles=results.to_dict(orient='records')))\n",
    "\n",
    "\n",
    "results.to_dict(orient='records')[:2]\n",
    "\n"
   ]
  },
  {
   "cell_type": "code",
   "execution_count": null,
   "metadata": {},
   "outputs": [],
   "source": [
    "#| hide\n",
    "import nbdev; nbdev.nbdev_export()"
   ]
  }
 ],
 "metadata": {
  "kernelspec": {
   "display_name": "Python 3 (ipykernel)",
   "language": "python",
   "name": "python3"
  }
 },
 "nbformat": 4,
 "nbformat_minor": 4
}
